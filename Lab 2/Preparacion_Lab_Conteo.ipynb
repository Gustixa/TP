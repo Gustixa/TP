{
  "nbformat": 4,
  "nbformat_minor": 0,
  "metadata": {
    "colab": {
      "provenance": []
    },
    "kernelspec": {
      "name": "python3",
      "display_name": "Python 3"
    },
    "language_info": {
      "name": "python"
    }
  },
  "cells": [
    {
      "cell_type": "markdown",
      "source": [
        "1. ¿De cuántas maneras pueden ser programados 4 exámenes dentro de un período de 7 días, de modo que el mismo día no sean programados 2 exámenes?"
      ],
      "metadata": {
        "id": "cW0ajub0frNL"
      }
    },
    {
      "cell_type": "code",
      "source": [
        "# https://docs.python.org/3/library/itertools.html\n",
        "from itertools import permutations, product, combinations, combinations_with_replacement\n",
        "Dias=[\"lunes\",\"martes\",\"miércoles\",\"jueves\",\"viernes\",\"sábado\",\"domingo\"]\n",
        "len(list(permutations(Dias,4)))"
      ],
      "metadata": {
        "colab": {
          "base_uri": "https://localhost:8080/"
        },
        "id": "h9RQLeEhgpGj",
        "outputId": "42a53f39-21ba-464a-a3f3-58c2d769d72b"
      },
      "execution_count": 2,
      "outputs": [
        {
          "output_type": "execute_result",
          "data": {
            "text/plain": [
              "840"
            ]
          },
          "metadata": {},
          "execution_count": 2
        }
      ]
    },
    {
      "cell_type": "markdown",
      "source": [
        "2. Determine el número de cifras decimales de 4 dígitos que no contengan dígitos\n",
        "repetidos."
      ],
      "metadata": {
        "id": "uZlAaWxVhdol"
      }
    },
    {
      "cell_type": "code",
      "source": [
        "Digitos = list(range(10))\n",
        "len(list(permutations(Digitos,4)))"
      ],
      "metadata": {
        "colab": {
          "base_uri": "https://localhost:8080/"
        },
        "id": "5HCqSyNRhmD9",
        "outputId": "e8b824b8-3b9b-4abc-8bd6-e5b073e604d0"
      },
      "execution_count": null,
      "outputs": [
        {
          "output_type": "execute_result",
          "data": {
            "text/plain": [
              "5040"
            ]
          },
          "metadata": {},
          "execution_count": 10
        }
      ]
    },
    {
      "cell_type": "code",
      "source": [
        "# No se incluye el 0 en la 4ta posición\n",
        "Digitos_sin_0 = list(range(1,10))\n",
        "Digitos_sin_0\n",
        "len(set(list(permutations(Digitos,4)))-{ (0,a,b,c) for a,b,c in permutations(Digitos_sin_0,3)})"
      ],
      "metadata": {
        "colab": {
          "base_uri": "https://localhost:8080/"
        },
        "id": "lfub0mhih7V7",
        "outputId": "09411d5c-b808-4b47-da52-c59350d2825b"
      },
      "execution_count": null,
      "outputs": [
        {
          "output_type": "execute_result",
          "data": {
            "text/plain": [
              "4536"
            ]
          },
          "metadata": {},
          "execution_count": 21
        }
      ]
    },
    {
      "cell_type": "markdown",
      "source": [
        "3. ¿De cuántas formas diferentes pueden acomodarse 3 focos rojos, 4 amarillos y 2 azules en un árbol de navidad con 9 conectores de focos?"
      ],
      "metadata": {
        "id": "rg7PoW4LkpzT"
      }
    },
    {
      "cell_type": "code",
      "source": [
        "Focos=\"rrryyyybb\"\n",
        "len(set(permutations(Focos,9)))"
      ],
      "metadata": {
        "colab": {
          "base_uri": "https://localhost:8080/"
        },
        "id": "Ngu5ycJhlYDz",
        "outputId": "e8a11cb0-96d0-4370-904e-c34bcc3d6b9a"
      },
      "execution_count": null,
      "outputs": [
        {
          "output_type": "execute_result",
          "data": {
            "text/plain": [
              "1260"
            ]
          },
          "metadata": {},
          "execution_count": 24
        }
      ]
    },
    {
      "cell_type": "markdown",
      "source": [
        "4. Encuentre el número de comités que pueden formarse con 4 matemáticos, 3 físicos y 3 bioquímicos, que comprendan 2 matemáticos, 2 físicos y un bioquímico."
      ],
      "metadata": {
        "id": "ZXLxKoeJlqO_"
      }
    },
    {
      "cell_type": "code",
      "source": [
        "Matematicos = [\"m1\",\"m2\",\"m3\",\"m4\"]\n",
        "Fisicos = [\"f1\",\"f2\",\"f3\"]\n",
        "Bioquimicos =[\"bq1\",\"bq2\",\"bq3\"]\n",
        "grupo1 = list(combinations(Matematicos, 2))\n",
        "grupo2 = list(combinations(Fisicos, 2))\n",
        "grupo3 = list(combinations(Bioquimicos, 1))\n",
        "len(list(product(grupo1,grupo2,grupo3)))"
      ],
      "metadata": {
        "colab": {
          "base_uri": "https://localhost:8080/"
        },
        "id": "B7JEWsz3lsaL",
        "outputId": "d56650ed-7cf4-47c1-a564-e2841e515c1e"
      },
      "execution_count": 4,
      "outputs": [
        {
          "output_type": "execute_result",
          "data": {
            "text/plain": [
              "54"
            ]
          },
          "metadata": {},
          "execution_count": 4
        }
      ]
    },
    {
      "cell_type": "markdown",
      "source": [
        "5. ¿Cuál es el número de escoger 3 de 7 días (con repeticiones permitidas)?"
      ],
      "metadata": {
        "id": "3V53qQ9qn20j"
      }
    },
    {
      "cell_type": "code",
      "source": [
        "len(list(combinations_with_replacement(Dias,3)))\n",
        "#list(combinations_with_replacement(Dias,3))"
      ],
      "metadata": {
        "colab": {
          "base_uri": "https://localhost:8080/"
        },
        "id": "mTGZYRnBn68l",
        "outputId": "b595eb8c-5b37-42be-bdf1-9bc5cc506978"
      },
      "execution_count": null,
      "outputs": [
        {
          "output_type": "execute_result",
          "data": {
            "text/plain": [
              "84"
            ]
          },
          "metadata": {},
          "execution_count": 43
        }
      ]
    },
    {
      "cell_type": "markdown",
      "source": [
        "6. Se tiene 7 habitaciones y se quiere asignar 4 de ellas, como oficinas, a 4 programadores y se usará las 3 restantes para las personas de paso. ¿De cuántas maneras puede realizarse la asignación?"
      ],
      "metadata": {
        "id": "SpL83MNvp6SE"
      }
    },
    {
      "cell_type": "code",
      "source": [
        "Programadores =[\"p1\",\"p2\",\"p3\",\"p4\",\"paso\",\"paso\",\"paso\"]\n",
        "len(set(permutations(Programadores,7)))\n",
        "#[ (('h1',a),('h2',b),('h3',c),('h4',d),('h5',e),('h6',f),('h7',g)) for a,b,c,d,e,f,g in set(permutations(Programadores,7))][0:3]\n",
        "len([ (('h1',a),('h2',b),('h3',c),('h4',d),('h5',e),('h6',f),('h7',g)) for a,b,c,d,e,f,g in set(permutations(Programadores,7))])"
      ],
      "metadata": {
        "colab": {
          "base_uri": "https://localhost:8080/"
        },
        "id": "6HAk6h6Eqb8M",
        "outputId": "9fb2749f-4738-4a63-aa08-21d2b67e8028"
      },
      "execution_count": null,
      "outputs": [
        {
          "output_type": "execute_result",
          "data": {
            "text/plain": [
              "840"
            ]
          },
          "metadata": {},
          "execution_count": 51
        }
      ]
    },
    {
      "cell_type": "markdown",
      "source": [
        "7. Determine el número de placas que se pueden formar de cadenas de 3 letras distintas (del alfabeto inglés que contiene 26 letras) seguidas de 3 dígitos distintos."
      ],
      "metadata": {
        "id": "HwgwWSgQtPiM"
      }
    },
    {
      "cell_type": "code",
      "source": [
        "lista_3_letras_distintas = list(permutations(\"abcdefghijklmnopqrstuvwxyz\",3))\n",
        "lista_digitos_distintos = list(permutations(Digitos,3))\n",
        "len(list(product(lista_3_letras_distintas, lista_digitos_distintos)))"
      ],
      "metadata": {
        "colab": {
          "base_uri": "https://localhost:8080/"
        },
        "id": "I1X0lYcmtTkc",
        "outputId": "4e51e6a5-72f7-42e6-b3f6-dddec168becd"
      },
      "execution_count": null,
      "outputs": [
        {
          "output_type": "execute_result",
          "data": {
            "text/plain": [
              "11232000"
            ]
          },
          "metadata": {},
          "execution_count": 56
        }
      ]
    },
    {
      "cell_type": "markdown",
      "source": [
        "8. Determine el número total de maneras que se puede programar 4 exámenes dentro de un período de 7 días sin restricción alguna sobre el número exámenes programados cada día."
      ],
      "metadata": {
        "id": "RNbH9zfLt3Pc"
      }
    },
    {
      "cell_type": "code",
      "source": [
        "len(list(product(Dias,repeat=4)))\n",
        "# len([ (('ex1',a),('ex2',b),('ex3',c),('ex4',d)) for a,b,c, d in product(Dias,repeat=4)])"
      ],
      "metadata": {
        "colab": {
          "base_uri": "https://localhost:8080/"
        },
        "id": "vjg8NasEvx53",
        "outputId": "15ce63bb-757c-4068-98a5-8d75615e7a5d"
      },
      "execution_count": null,
      "outputs": [
        {
          "output_type": "execute_result",
          "data": {
            "text/plain": [
              "2401"
            ]
          },
          "metadata": {},
          "execution_count": 62
        }
      ]
    },
    {
      "cell_type": "markdown",
      "source": [
        "9. ¿Cuál es el número de escoger 3 de 7 días (sin repeticiones permitidas)?"
      ],
      "metadata": {
        "id": "f4doELtLyXJN"
      }
    },
    {
      "cell_type": "code",
      "source": [
        "len(list(combinations(Dias,3)))"
      ],
      "metadata": {
        "colab": {
          "base_uri": "https://localhost:8080/"
        },
        "id": "f2qIVyeWyb71",
        "outputId": "d1889070-96d7-4163-98e1-625d21c74423"
      },
      "execution_count": null,
      "outputs": [
        {
          "output_type": "execute_result",
          "data": {
            "text/plain": [
              "35"
            ]
          },
          "metadata": {},
          "execution_count": 63
        }
      ]
    },
    {
      "cell_type": "markdown",
      "source": [
        "10. Determinar el número de maneras diferentes de sentar 6 estudiantes en sillas que tiene la disposición de una mesa circular."
      ],
      "metadata": {
        "id": "0dTVep3AyrEV"
      }
    },
    {
      "cell_type": "code",
      "source": [
        "def giro(tupla,posicion):\n",
        "  return (tupla+tupla)[posicion : posicion+6]\n",
        "estudiantes = [\"e1\",\"e2\",\"e3\",\"e4\",\"e5\",\"e6\"]\n",
        "lista = len(list(permutations(estudiantes,6)))\n",
        "#list(permutations(estudiantes,6))[0:6]\n",
        "dic_sin_duplicados = {}\n",
        "for tupla in permutations(estudiantes,6):\n",
        "  llave = tupla\n",
        "  if giro(tupla,0) in dic_sin_duplicados.keys():\n",
        "    llave = giro(tupla,0)\n",
        "  elif giro(tupla,1) in dic_sin_duplicados.keys():\n",
        "    llave = giro(tupla,1)\n",
        "  elif giro(tupla,2) in dic_sin_duplicados.keys():\n",
        "    llave = giro(tupla,2)\n",
        "  elif giro(tupla,3) in dic_sin_duplicados.keys():\n",
        "    llave = giro(tupla,3)\n",
        "  elif giro(tupla,4) in dic_sin_duplicados.keys():\n",
        "    llave = giro(tupla,4)\n",
        "  elif giro(tupla,5) in dic_sin_duplicados.keys():\n",
        "    llave = giro(tupla,5)\n",
        "  if llave not in dic_sin_duplicados.keys():\n",
        "    dic_sin_duplicados[llave]=[tupla]\n",
        "  else:\n",
        "    dic_sin_duplicados[llave].append(tupla)\n",
        "len(dic_sin_duplicados.keys())\n"
      ],
      "metadata": {
        "colab": {
          "base_uri": "https://localhost:8080/"
        },
        "id": "qvq4Qhw8yt6d",
        "outputId": "c6468042-4901-47e2-bfd3-e697892cf7d2"
      },
      "execution_count": null,
      "outputs": [
        {
          "output_type": "execute_result",
          "data": {
            "text/plain": [
              "120"
            ]
          },
          "metadata": {},
          "execution_count": 80
        }
      ]
    },
    {
      "cell_type": "markdown",
      "source": [
        "11. ¿De cuántas formas  diferentes pueden 7 científicos acomodarse en una habitación triple y 2 habitaciones dobles en un hotel?"
      ],
      "metadata": {
        "id": "hoy57an1-iVH"
      }
    },
    {
      "cell_type": "code",
      "source": [
        "Cientificos =[\"c1\",\"c2\",\"c3\",\"c4\",\"c5\",\"c6\",\"c7\"]\n",
        "Triple = tuple(combinations(Cientificos,3))\n",
        "Lista = []\n",
        "for i in Triple:\n",
        "  Grupo4 = set(Cientificos) - {i[0],i[1],i[2]}\n",
        "  Doble = combinations(Grupo4,2)\n",
        "  for j in Doble:\n",
        "    Grupo5 = tuple(Grupo4 - {j[0],j[1]})\n",
        "    Lista.append((i,j,Grupo5))\n",
        "len(Lista)"
      ],
      "metadata": {
        "colab": {
          "base_uri": "https://localhost:8080/"
        },
        "id": "FdI6VfMn-eUn",
        "outputId": "1d16a4a8-3795-434f-d043-795b9ede8593"
      },
      "execution_count": null,
      "outputs": [
        {
          "output_type": "execute_result",
          "data": {
            "text/plain": [
              "210"
            ]
          },
          "metadata": {},
          "execution_count": 85
        }
      ]
    },
    {
      "cell_type": "markdown",
      "source": [],
      "metadata": {
        "id": "AJM1SONbyWUF"
      }
    },
    {
      "cell_type": "markdown",
      "source": [
        " 12. Cuando se lanzan 3 dados, ¿cuál es el número de resultados diferentes?"
      ],
      "metadata": {
        "id": "4tujfmGQCM52"
      }
    },
    {
      "cell_type": "code",
      "source": [
        "Dados = list(range(1,7))\n",
        "len(list(combinations_with_replacement(Dados,3)))"
      ],
      "metadata": {
        "colab": {
          "base_uri": "https://localhost:8080/"
        },
        "id": "91eSwTrbCR1O",
        "outputId": "b12518fb-8b2e-4918-9af0-425b9a82f672"
      },
      "execution_count": null,
      "outputs": [
        {
          "output_type": "execute_result",
          "data": {
            "text/plain": [
              "56"
            ]
          },
          "metadata": {},
          "execution_count": 89
        }
      ]
    }
  ]
}